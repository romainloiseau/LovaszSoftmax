{
 "cells": [
  {
   "cell_type": "code",
   "execution_count": 1,
   "metadata": {},
   "outputs": [],
   "source": [
    "import numpy as np\n",
    "\n",
    "import torch\n",
    "from torch import nn\n",
    "import torch.nn.functional as F\n",
    "\n",
    "import matplotlib.pyplot as plt\n",
    "\n",
    "from lovasz_losses import lovasz_softmax\n",
    "from lovasz_losses_fast import LovaszSoftmaxFast"
   ]
  },
  {
   "cell_type": "code",
   "execution_count": 2,
   "metadata": {},
   "outputs": [],
   "source": [
    "Niter = 50\n",
    "B, N, H, W = 16, 20, 512, 512\n",
    "\n",
    "class Model(nn.Module):\n",
    "    def __init__(self, B, N, H, W, *args, **kwargs):\n",
    "        super().__init__(*args, **kwargs)\n",
    "\n",
    "        self.x = torch.nn.Parameter(torch.rand((B, N, H, W), requires_grad=True))\n",
    "\n",
    "    def forward(self, *args, **kwargs):\n",
    "        return self.x\n",
    "\n",
    "X = Model(B, N, H, W).cuda()\n",
    "y = (N * torch.rand(B, H, W, device='cuda')).long()"
   ]
  },
  {
   "cell_type": "code",
   "execution_count": 3,
   "metadata": {},
   "outputs": [
    {
     "name": "stdout",
     "output_type": "stream",
     "text": [
      "Loss\n",
      "\tOriginal:\t0.9499844908714294\n",
      "\tFast:   \t0.9499836564064026\n",
      "\tDifference:  \t8.344650268554688e-07\n",
      "x Gradients\n",
      "\tMin:\t\t1.3363890549733526e-10\n",
      "\tMedian:\t\t5.667801783459936e-10\n",
      "\tMax:\t\t2.1741865197100196e-08\n"
     ]
    }
   ],
   "source": [
    "lovasz_softmax_fast = LovaszSoftmaxFast(N).cuda()\n",
    "\n",
    "b_fast = lovasz_softmax_fast(F.softmax(X(), dim=1), y)\n",
    "b_fast.backward()\n",
    "grad_fast = torch.clone(X.x.grad)\n",
    "\n",
    "b_original = lovasz_softmax(F.softmax(X(), dim=1), y)\n",
    "b_original.backward()\n",
    "grad_original = torch.clone(X.x.grad)\n",
    "\n",
    "with torch.no_grad():\n",
    "    print(f\"Loss\\n\\tOriginal:\\t{b_original}\\n\\tFast:   \\t{b_fast}\\n\\tDifference:  \\t{(b_original-b_fast).abs()}\")\n",
    "\n",
    "    delta_grad = (grad_fast - grad_original).abs()\n",
    "    print(f\"x Gradients\")\n",
    "    print(f\"\\tMin:\\t\\t{delta_grad.min()}\")\n",
    "    print(f\"\\tMedian:\\t\\t{delta_grad.median()}\")\n",
    "    print(f\"\\tMax:\\t\\t{delta_grad.max()}\")\n",
    "\n",
    "del b_fast, grad_fast, b_original, grad_original, lovasz_softmax_fast\n",
    "torch.cuda.empty_cache()"
   ]
  },
  {
   "cell_type": "code",
   "execution_count": 4,
   "metadata": {},
   "outputs": [
    {
     "name": "stdout",
     "output_type": "stream",
     "text": [
      "LovaszSoftmaxFast() Timings:\n",
      "\tMin:\t\t129.00 ms\n",
      "\tMedian:\t\t129.17 ms\n",
      "\tMax:\t\t131.17 ms\n",
      "<function lovasz_softmax at 0x7fe4e18885e0> Timings:\n",
      "\tMin:\t\t268.23 ms\n",
      "\tMedian:\t\t268.84 ms\n",
      "\tMax:\t\t272.30 ms\n"
     ]
    }
   ],
   "source": [
    "def time(func, X, y):\n",
    "    times = []\n",
    "    for iter in range(Niter):\n",
    "        torch.cuda.synchronize()\n",
    "\n",
    "        if iter >= 10:    \n",
    "            start = torch.cuda.Event(enable_timing=True)\n",
    "            end = torch.cuda.Event(enable_timing=True)     \n",
    "            start.record()\n",
    "\n",
    "        b = func(F.softmax(X(), dim=-1), y)\n",
    "        b.backward()\n",
    "\n",
    "        if iter >= 10:\n",
    "            end.record()\n",
    "            torch.cuda.synchronize()\n",
    "            times.append(start.elapsed_time(end))\n",
    "\n",
    "        del b, X.x.grad\n",
    "        torch.cuda.empty_cache()\n",
    "\n",
    "    print(f\"{func} Timings:\")\n",
    "    print(f\"\\tMin:\\t\\t{np.min(times):.2f} ms\")\n",
    "    print(f\"\\tMedian:\\t\\t{np.median(times):.2f} ms\")\n",
    "    print(f\"\\tMax:\\t\\t{np.max(times):.2f} ms\")\n",
    "\n",
    "\n",
    "time(LovaszSoftmaxFast(N).cuda(), X, y)\n",
    "time(lovasz_softmax, X, y)"
   ]
  }
 ],
 "metadata": {
  "interpreter": {
   "hash": "b9e25cc0ddd735c5ac8abcc2e46ae161aa4c501c69f917937f0fb8b144714774"
  },
  "kernelspec": {
   "display_name": "Python [conda env:neural7]",
   "language": "python",
   "name": "python3"
  },
  "language_info": {
   "codemirror_mode": {
    "name": "ipython",
    "version": 3
   },
   "file_extension": ".py",
   "mimetype": "text/x-python",
   "name": "python",
   "nbconvert_exporter": "python",
   "pygments_lexer": "ipython3",
   "version": "3.9.7"
  }
 },
 "nbformat": 4,
 "nbformat_minor": 2
}
