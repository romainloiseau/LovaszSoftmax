{
 "cells": [
  {
   "cell_type": "markdown",
   "metadata": {},
   "source": [
    "# Multiclass segmentation: PyTorch version\n",
    "We want to optimize the mean Jaccard index of the non-void classes."
   ]
  },
  {
   "cell_type": "code",
   "execution_count": null,
   "metadata": {
    "ExecuteTime": {
     "end_time": "2019-02-26T15:33:43.043490Z",
     "start_time": "2019-02-26T15:33:43.029167Z"
    },
    "collapsed": true
   },
   "outputs": [],
   "source": [
    "%load_ext autoreload\n",
    "%autoreload 2"
   ]
  },
  {
   "cell_type": "code",
   "execution_count": null,
   "metadata": {
    "ExecuteTime": {
     "end_time": "2019-02-26T15:33:43.055280Z",
     "start_time": "2019-02-26T15:33:43.045043Z"
    },
    "collapsed": true
   },
   "outputs": [],
   "source": [
    "from __future__ import division, print_function"
   ]
  },
  {
   "cell_type": "code",
   "execution_count": null,
   "metadata": {
    "ExecuteTime": {
     "end_time": "2019-02-26T15:33:43.724129Z",
     "start_time": "2019-02-26T15:33:43.056577Z"
    },
    "collapsed": true
   },
   "outputs": [],
   "source": [
    "import torch\n",
    "from torch.autograd import Variable\n",
    "import torch.nn.functional as F\n",
    "from torch.optim import Adam\n",
    "from torch import nn"
   ]
  },
  {
   "cell_type": "code",
   "execution_count": null,
   "metadata": {
    "ExecuteTime": {
     "end_time": "2019-02-26T15:33:43.743851Z",
     "start_time": "2019-02-26T15:33:43.726693Z"
    },
    "collapsed": true
   },
   "outputs": [],
   "source": [
    "import lovasz_losses as L\n",
    "import lovasz_losses_fast as FastL"
   ]
  },
  {
   "cell_type": "code",
   "execution_count": null,
   "metadata": {
    "ExecuteTime": {
     "end_time": "2019-02-26T15:33:44.137988Z",
     "start_time": "2019-02-26T15:33:43.746333Z"
    },
    "collapsed": true
   },
   "outputs": [],
   "source": [
    "import numpy as np\n",
    "import matplotlib.pyplot as plt\n",
    "%matplotlib inline"
   ]
  },
  {
   "cell_type": "code",
   "execution_count": null,
   "metadata": {
    "ExecuteTime": {
     "end_time": "2019-02-26T15:33:44.163951Z",
     "start_time": "2019-02-26T15:33:44.139228Z"
    },
    "collapsed": true
   },
   "outputs": [],
   "source": [
    "from tqdm.auto import tqdm"
   ]
  },
  {
   "cell_type": "code",
   "execution_count": null,
   "metadata": {
    "ExecuteTime": {
     "end_time": "2019-02-26T15:33:46.931708Z",
     "start_time": "2019-02-26T15:33:44.165259Z"
    },
    "collapsed": true
   },
   "outputs": [],
   "source": [
    "# add parent path to pythonpath to import demo_utils\n",
    "import sys\n",
    "sys.path.append('../demo_helpers')\n",
    "from demo_utils import pil, pil_grid, dummy_triangles"
   ]
  },
  {
   "cell_type": "code",
   "execution_count": null,
   "metadata": {
    "ExecuteTime": {
     "end_time": "2019-02-26T15:33:46.948157Z",
     "start_time": "2019-02-26T15:33:46.933531Z"
    },
    "collapsed": true
   },
   "outputs": [],
   "source": [
    "from collections import OrderedDict as OD"
   ]
  },
  {
   "cell_type": "code",
   "execution_count": null,
   "metadata": {
    "ExecuteTime": {
     "end_time": "2019-02-26T15:33:46.961182Z",
     "start_time": "2019-02-26T15:33:46.949698Z"
    },
    "collapsed": true
   },
   "outputs": [],
   "source": [
    "CUDA = True"
   ]
  },
  {
   "cell_type": "code",
   "execution_count": null,
   "metadata": {
    "ExecuteTime": {
     "end_time": "2019-02-26T15:33:46.977270Z",
     "start_time": "2019-02-26T15:33:46.962594Z"
    },
    "collapsed": true
   },
   "outputs": [],
   "source": [
    "def cuda(x):\n",
    "    if CUDA:\n",
    "        return x.cuda()\n",
    "    else:\n",
    "        return x"
   ]
  },
  {
   "cell_type": "markdown",
   "metadata": {},
   "source": [
    "## Multiclass case: batch of 5 random images with classes [0, 1, 2] and void (255)\n",
    "We assume that we want to optimize the Jaccard index of all non-void classes 0, 1 and 2."
   ]
  },
  {
   "cell_type": "markdown",
   "metadata": {},
   "source": [
    "### Labels"
   ]
  },
  {
   "cell_type": "code",
   "execution_count": null,
   "metadata": {
    "ExecuteTime": {
     "end_time": "2019-02-26T15:33:47.051480Z",
     "start_time": "2019-02-26T15:33:46.978592Z"
    }
   },
   "outputs": [],
   "source": [
    "np.random.seed(18)\n",
    "C = 3\n",
    "B = 5\n",
    "H = 200\n",
    "labels_ = [dummy_triangles(H, [0, 255, 1, 2]) for b in range(B)]\n",
    "labels = torch.stack([torch.from_numpy(a) for a in map(np.array, labels_)]).long()\n",
    "pil_grid(labels_, 5, margin=1)"
   ]
  },
  {
   "cell_type": "markdown",
   "metadata": {},
   "source": [
    "### Features"
   ]
  },
  {
   "cell_type": "code",
   "execution_count": null,
   "metadata": {
    "ExecuteTime": {
     "end_time": "2019-02-26T15:33:47.110472Z",
     "start_time": "2019-02-26T15:33:47.052783Z"
    },
    "collapsed": true
   },
   "outputs": [],
   "source": [
    "np.random.seed(57)\n",
    "B, H, W = labels.size()\n",
    "labels_ = labels.clone()\n",
    "labels_[labels_ == 255] = labels_[labels_ == 255].random_(C) # random feats for void\n",
    "labels_1hot = torch.zeros(B, C, H, W)\n",
    "labels_1hot.scatter_(1, labels_.unsqueeze(1), 1);"
   ]
  },
  {
   "cell_type": "code",
   "execution_count": null,
   "metadata": {
    "ExecuteTime": {
     "end_time": "2019-02-26T15:33:47.129497Z",
     "start_time": "2019-02-26T15:33:47.111665Z"
    },
    "collapsed": true
   },
   "outputs": [],
   "source": [
    "feats = labels_1hot.clone().float()\n",
    "feats += feats.new(feats.size()).normal_(0, 2) # additive gaussian noise"
   ]
  },
  {
   "cell_type": "code",
   "execution_count": null,
   "metadata": {
    "ExecuteTime": {
     "end_time": "2019-02-26T15:33:49.195084Z",
     "start_time": "2019-02-26T15:33:47.130752Z"
    },
    "collapsed": true
   },
   "outputs": [],
   "source": [
    "labels = cuda(labels)\n",
    "feats = Variable(cuda(feats))"
   ]
  },
  {
   "cell_type": "markdown",
   "metadata": {},
   "source": [
    "## Model"
   ]
  },
  {
   "cell_type": "markdown",
   "metadata": {},
   "source": [
    "### definition"
   ]
  },
  {
   "cell_type": "code",
   "execution_count": null,
   "metadata": {
    "ExecuteTime": {
     "end_time": "2019-02-26T15:33:49.208767Z",
     "start_time": "2019-02-26T15:33:49.196271Z"
    },
    "collapsed": true
   },
   "outputs": [],
   "source": [
    "class Model(nn.Module):\n",
    "    def __init__(self):\n",
    "        super(Model, self).__init__()\n",
    "        self.conv = nn.Conv2d(C, C, 3, padding=1)\n",
    "        \n",
    "    def forward(self, x):\n",
    "        return x + self.conv(x)"
   ]
  },
  {
   "cell_type": "code",
   "execution_count": null,
   "metadata": {
    "ExecuteTime": {
     "end_time": "2019-02-26T15:33:49.224356Z",
     "start_time": "2019-02-26T15:33:49.210833Z"
    },
    "collapsed": true
   },
   "outputs": [],
   "source": [
    "m = Model()\n",
    "init_state_dict = OD([(n, p.clone()) for (n, p) in m.state_dict().items()])"
   ]
  },
  {
   "cell_type": "code",
   "execution_count": null,
   "metadata": {
    "ExecuteTime": {
     "end_time": "2019-02-26T15:33:49.236841Z",
     "start_time": "2019-02-26T15:33:49.225545Z"
    },
    "collapsed": true
   },
   "outputs": [],
   "source": [
    "m = cuda(m)"
   ]
  },
  {
   "cell_type": "markdown",
   "metadata": {},
   "source": [
    "### Initial prediction"
   ]
  },
  {
   "cell_type": "code",
   "execution_count": null,
   "metadata": {
    "ExecuteTime": {
     "end_time": "2019-02-26T15:33:49.256416Z",
     "start_time": "2019-02-26T15:33:49.238924Z"
    },
    "scrolled": true
   },
   "outputs": [],
   "source": [
    "_, preds = m(feats).data.max(1)\n",
    "print(\"Initial batch-IoUs:\", L.iou(preds, labels, C, ignore=255, per_image=False))\n",
    "print(\"Initial mIoU:\", np.mean(L.iou(preds, labels, C, ignore=255, per_image=False)))"
   ]
  },
  {
   "cell_type": "code",
   "execution_count": null,
   "metadata": {
    "ExecuteTime": {
     "end_time": "2019-02-26T15:33:49.339052Z",
     "start_time": "2019-02-26T15:33:49.257615Z"
    },
    "scrolled": true
   },
   "outputs": [],
   "source": [
    "pil_grid([pil(f.byte().cpu().numpy()) for f in preds], 5, margin=1)"
   ]
  },
  {
   "cell_type": "markdown",
   "metadata": {},
   "source": [
    "## Lovász-Softmax training"
   ]
  },
  {
   "cell_type": "code",
   "execution_count": null,
   "metadata": {
    "ExecuteTime": {
     "end_time": "2019-02-26T15:33:56.358994Z",
     "start_time": "2019-02-26T15:33:49.340249Z"
    },
    "scrolled": false
   },
   "outputs": [],
   "source": [
    "m.load_state_dict(init_state_dict)\n",
    "\n",
    "optimizer = Adam(m.parameters(), lr=0.005)\n",
    "lovasz_softmax_fast = FastL.LovaszSoftmaxFast(C, ignore_index=255).cuda()\n",
    "\n",
    "loss_plot = []\n",
    "iou_plot = []\n",
    "\n",
    "for iter in tqdm(range(1000)):\n",
    "    optimizer.zero_grad()\n",
    "    out = m(feats)\n",
    "    out = F.softmax(out, dim=1)\n",
    "    loss = lovasz_softmax_fast(out, labels)\n",
    "    loss.backward()\n",
    "    optimizer.step()\n",
    "    \n",
    "    _, preds = out.data.max(1)\n",
    "    loss_plot.append(loss.item())\n",
    "    iou_plot.append(L.iou_binary(preds, labels, ignore=255, per_image=False))"
   ]
  },
  {
   "cell_type": "code",
   "execution_count": null,
   "metadata": {
    "ExecuteTime": {
     "end_time": "2019-02-26T15:33:56.631835Z",
     "start_time": "2019-02-26T15:33:56.360155Z"
    }
   },
   "outputs": [],
   "source": [
    "plt.figure(figsize=(10, 5))\n",
    "plt.suptitle(u'Lovász-Softmax training')\n",
    "plt.subplot(1, 2, 1)\n",
    "plt.plot(loss_plot)\n",
    "plt.ylabel('loss')\n",
    "plt.xlabel('iteration')\n",
    "\n",
    "plt.subplot(1, 2, 2)\n",
    "plt.plot(iou_plot)\n",
    "plt.ylabel('Image-IoU (%)')\n",
    "plt.xlabel('iteration')"
   ]
  },
  {
   "cell_type": "markdown",
   "metadata": {},
   "source": [
    "### Final prediction"
   ]
  },
  {
   "cell_type": "code",
   "execution_count": null,
   "metadata": {
    "ExecuteTime": {
     "end_time": "2019-02-26T15:33:56.648307Z",
     "start_time": "2019-02-26T15:33:56.632884Z"
    }
   },
   "outputs": [],
   "source": [
    "_, preds = m(feats).data.max(1)\n",
    "print(\"Final batch-IoUs:\", L.iou(preds, labels, C, ignore=255, per_image=False))\n",
    "print(\"Final mIoU:\", np.mean(L.iou(preds, labels, C, ignore=255, per_image=False)))"
   ]
  },
  {
   "cell_type": "code",
   "execution_count": null,
   "metadata": {
    "ExecuteTime": {
     "end_time": "2019-02-26T15:33:56.692385Z",
     "start_time": "2019-02-26T15:33:56.649951Z"
    }
   },
   "outputs": [],
   "source": [
    "pil_grid([pil(f.byte().cpu().numpy()) for f in preds], 5, margin=1)"
   ]
  },
  {
   "cell_type": "markdown",
   "metadata": {},
   "source": [
    "## Cross-entropy training"
   ]
  },
  {
   "cell_type": "code",
   "execution_count": null,
   "metadata": {
    "ExecuteTime": {
     "end_time": "2019-02-26T15:33:58.069288Z",
     "start_time": "2019-02-26T15:33:56.694412Z"
    }
   },
   "outputs": [],
   "source": [
    "m.load_state_dict(init_state_dict)\n",
    "\n",
    "optimizer = Adam(m.parameters(), lr=0.005)\n",
    "\n",
    "loss_plot_x = []\n",
    "iou_plot_x = []\n",
    "\n",
    "for iter in tqdm(range(1000)):\n",
    "    optimizer.zero_grad()\n",
    "    out = m(feats)\n",
    "    loss = L.xloss(out, labels, ignore=255)\n",
    "    loss.backward()\n",
    "    optimizer.step()\n",
    "    \n",
    "    _, preds = out.data.max(1)\n",
    "    loss_plot_x.append(loss.item())\n",
    "    iou_plot_x.append(L.iou_binary(preds, labels, ignore=255, per_image=False))"
   ]
  },
  {
   "cell_type": "code",
   "execution_count": null,
   "metadata": {
    "ExecuteTime": {
     "end_time": "2019-02-26T15:33:58.283458Z",
     "start_time": "2019-02-26T15:33:58.070549Z"
    }
   },
   "outputs": [],
   "source": [
    "plt.figure(figsize=(10, 5))\n",
    "plt.suptitle(u'Binary cross-entropy training')\n",
    "plt.subplot(1, 2, 1)\n",
    "plt.plot(loss_plot_x)\n",
    "plt.ylabel('loss')\n",
    "plt.xlabel('iteration')\n",
    "\n",
    "plt.subplot(1, 2, 2)\n",
    "plt.plot(iou_plot_x)\n",
    "plt.ylabel('Image-IoU (%)')\n",
    "plt.xlabel('iteration')"
   ]
  },
  {
   "cell_type": "markdown",
   "metadata": {},
   "source": [
    "### Final prediction"
   ]
  },
  {
   "cell_type": "code",
   "execution_count": null,
   "metadata": {
    "ExecuteTime": {
     "end_time": "2019-02-26T15:33:58.304004Z",
     "start_time": "2019-02-26T15:33:58.284925Z"
    }
   },
   "outputs": [],
   "source": [
    "_, preds = m(feats).data.max(1)\n",
    "print(\"Final batch-IoUs:\", L.iou(preds, labels, C, ignore=255, per_image=False))\n",
    "print(\"Final mIoU:\", np.mean(L.iou(preds, labels, C, ignore=255, per_image=False)))"
   ]
  },
  {
   "cell_type": "code",
   "execution_count": null,
   "metadata": {
    "ExecuteTime": {
     "end_time": "2019-02-26T15:33:58.350620Z",
     "start_time": "2019-02-26T15:33:58.305850Z"
    }
   },
   "outputs": [],
   "source": [
    "pil_grid([pil(f.byte().cpu().numpy()) for f in preds], 5, margin=1)"
   ]
  },
  {
   "cell_type": "code",
   "execution_count": null,
   "metadata": {
    "collapsed": true
   },
   "outputs": [],
   "source": []
  }
 ],
 "metadata": {
  "anaconda-cloud": {},
  "interpreter": {
   "hash": "b9e25cc0ddd735c5ac8abcc2e46ae161aa4c501c69f917937f0fb8b144714774"
  },
  "kernelspec": {
   "display_name": "Python [conda env:lamlearn]",
   "language": "python",
   "name": "python3"
  },
  "language_info": {
   "codemirror_mode": {
    "name": "ipython",
    "version": 3
   },
   "file_extension": ".py",
   "mimetype": "text/x-python",
   "name": "python",
   "nbconvert_exporter": "python",
   "pygments_lexer": "ipython3",
   "version": "3.9.7"
  },
  "latex_envs": {
   "LaTeX_envs_menu_present": true,
   "autoclose": false,
   "autocomplete": true,
   "bibliofile": "biblio.bib",
   "cite_by": "apalike",
   "current_citInitial": 1,
   "eqLabelWithNumbers": true,
   "eqNumInitial": 1,
   "hotkeys": {
    "equation": "Ctrl-E",
    "itemize": "Ctrl-I"
   },
   "labels_anchors": false,
   "latex_user_defs": false,
   "report_style_numbering": false,
   "user_envs_cfg": false
  }
 },
 "nbformat": 4,
 "nbformat_minor": 2
}
